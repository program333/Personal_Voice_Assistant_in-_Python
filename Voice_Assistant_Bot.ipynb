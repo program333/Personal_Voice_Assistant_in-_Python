{
 "cells": [
  {
   "cell_type": "code",
   "execution_count": 23,
   "id": "19119926",
   "metadata": {},
   "outputs": [
    {
     "name": "stdout",
     "output_type": "stream",
     "text": [
      "Collecting pyttsx3Note: you may need to restart the kernel to use updated packages.\n",
      "\n",
      "  Using cached pyttsx3-2.90-py3-none-any.whl (39 kB)\n",
      "Requirement already satisfied: pywin32 in c:\\users\\devin\\anaconda3\\lib\\site-packages (from pyttsx3) (302)\n",
      "Requirement already satisfied: comtypes in c:\\users\\devin\\anaconda3\\lib\\site-packages (from pyttsx3) (1.1.10)\n",
      "Collecting pypiwin32\n",
      "  Using cached pypiwin32-223-py3-none-any.whl (1.7 kB)\n",
      "Installing collected packages: pypiwin32, pyttsx3\n",
      "Successfully installed pypiwin32-223 pyttsx3-2.90\n"
     ]
    }
   ],
   "source": [
    "pip install pyttsx3"
   ]
  },
  {
   "cell_type": "code",
   "execution_count": 27,
   "id": "ef61327b",
   "metadata": {},
   "outputs": [
    {
     "name": "stdout",
     "output_type": "stream",
     "text": [
      "Collecting SpeechRecognition\n",
      "  Downloading SpeechRecognition-3.10.0-py2.py3-none-any.whl (32.8 MB)\n",
      "     ---------------------------------------- 32.8/32.8 MB 2.9 MB/s eta 0:00:00\n",
      "Requirement already satisfied: requests>=2.26.0 in c:\\users\\devin\\anaconda3\\lib\\site-packages (from SpeechRecognition) (2.28.1)\n",
      "Requirement already satisfied: certifi>=2017.4.17 in c:\\users\\devin\\anaconda3\\lib\\site-packages (from requests>=2.26.0->SpeechRecognition) (2022.12.7)\n",
      "Requirement already satisfied: idna<4,>=2.5 in c:\\users\\devin\\anaconda3\\lib\\site-packages (from requests>=2.26.0->SpeechRecognition) (3.3)\n",
      "Requirement already satisfied: charset-normalizer<3,>=2 in c:\\users\\devin\\anaconda3\\lib\\site-packages (from requests>=2.26.0->SpeechRecognition) (2.0.4)\n",
      "Requirement already satisfied: urllib3<1.27,>=1.21.1 in c:\\users\\devin\\anaconda3\\lib\\site-packages (from requests>=2.26.0->SpeechRecognition) (1.26.11)\n",
      "Installing collected packages: SpeechRecognition\n",
      "Successfully installed SpeechRecognition-3.10.0\n",
      "Note: you may need to restart the kernel to use updated packages.\n"
     ]
    }
   ],
   "source": [
    "pip install SpeechRecognition"
   ]
  },
  {
   "cell_type": "code",
   "execution_count": 29,
   "id": "c6c7ea58",
   "metadata": {},
   "outputs": [
    {
     "name": "stdout",
     "output_type": "stream",
     "text": [
      "Collecting pywhatkitNote: you may need to restart the kernel to use updated packages.\n",
      "\n",
      "  Downloading pywhatkit-5.4-py3-none-any.whl (15 kB)\n",
      "Requirement already satisfied: Pillow in c:\\users\\devin\\anaconda3\\lib\\site-packages (from pywhatkit) (9.2.0)\n",
      "Requirement already satisfied: Flask in c:\\users\\devin\\anaconda3\\lib\\site-packages (from pywhatkit) (1.1.2)\n",
      "Collecting pyautogui\n",
      "  Downloading PyAutoGUI-0.9.53.tar.gz (59 kB)\n",
      "     -------------------------------------- 59.0/59.0 kB 774.5 kB/s eta 0:00:00\n",
      "  Preparing metadata (setup.py): started\n",
      "  Preparing metadata (setup.py): finished with status 'done'\n",
      "Collecting wikipedia\n",
      "  Downloading wikipedia-1.4.0.tar.gz (27 kB)\n",
      "  Preparing metadata (setup.py): started\n",
      "  Preparing metadata (setup.py): finished with status 'done'\n",
      "Requirement already satisfied: requests in c:\\users\\devin\\anaconda3\\lib\\site-packages (from pywhatkit) (2.28.1)\n",
      "Requirement already satisfied: itsdangerous>=0.24 in c:\\users\\devin\\anaconda3\\lib\\site-packages (from Flask->pywhatkit) (2.0.1)\n",
      "Requirement already satisfied: Werkzeug>=0.15 in c:\\users\\devin\\anaconda3\\lib\\site-packages (from Flask->pywhatkit) (2.0.3)\n",
      "Requirement already satisfied: click>=5.1 in c:\\users\\devin\\anaconda3\\lib\\site-packages (from Flask->pywhatkit) (8.0.4)\n",
      "Requirement already satisfied: Jinja2>=2.10.1 in c:\\users\\devin\\anaconda3\\lib\\site-packages (from Flask->pywhatkit) (2.11.3)\n",
      "Collecting pymsgbox\n",
      "  Downloading PyMsgBox-1.0.9.tar.gz (18 kB)\n",
      "  Installing build dependencies: started\n",
      "  Installing build dependencies: finished with status 'done'\n",
      "  Getting requirements to build wheel: started\n",
      "  Getting requirements to build wheel: finished with status 'done'\n",
      "  Preparing metadata (pyproject.toml): started\n",
      "  Preparing metadata (pyproject.toml): finished with status 'done'\n",
      "Collecting PyTweening>=1.0.1\n",
      "  Downloading pytweening-1.0.4.tar.gz (14 kB)\n",
      "  Preparing metadata (setup.py): started\n",
      "  Preparing metadata (setup.py): finished with status 'done'\n",
      "Collecting pyscreeze>=0.1.21\n",
      "  Downloading PyScreeze-0.1.28.tar.gz (25 kB)\n",
      "  Installing build dependencies: started\n",
      "  Installing build dependencies: finished with status 'done'\n",
      "  Getting requirements to build wheel: started\n",
      "  Getting requirements to build wheel: finished with status 'done'\n",
      "  Preparing metadata (pyproject.toml): started\n",
      "  Preparing metadata (pyproject.toml): finished with status 'done'\n",
      "Collecting pygetwindow>=0.0.5\n",
      "  Downloading PyGetWindow-0.0.9.tar.gz (9.7 kB)\n",
      "  Preparing metadata (setup.py): started\n",
      "  Preparing metadata (setup.py): finished with status 'done'\n",
      "Collecting mouseinfo\n",
      "  Downloading MouseInfo-0.1.3.tar.gz (10 kB)\n",
      "  Preparing metadata (setup.py): started\n",
      "  Preparing metadata (setup.py): finished with status 'done'\n",
      "Requirement already satisfied: certifi>=2017.4.17 in c:\\users\\devin\\anaconda3\\lib\\site-packages (from requests->pywhatkit) (2022.12.7)\n",
      "Requirement already satisfied: charset-normalizer<3,>=2 in c:\\users\\devin\\anaconda3\\lib\\site-packages (from requests->pywhatkit) (2.0.4)\n",
      "Requirement already satisfied: urllib3<1.27,>=1.21.1 in c:\\users\\devin\\anaconda3\\lib\\site-packages (from requests->pywhatkit) (1.26.11)\n",
      "Requirement already satisfied: idna<4,>=2.5 in c:\\users\\devin\\anaconda3\\lib\\site-packages (from requests->pywhatkit) (3.3)\n",
      "Requirement already satisfied: beautifulsoup4 in c:\\users\\devin\\anaconda3\\lib\\site-packages (from wikipedia->pywhatkit) (4.11.1)\n",
      "Requirement already satisfied: colorama in c:\\users\\devin\\anaconda3\\lib\\site-packages (from click>=5.1->Flask->pywhatkit) (0.4.5)\n",
      "Requirement already satisfied: MarkupSafe>=0.23 in c:\\users\\devin\\anaconda3\\lib\\site-packages (from Jinja2>=2.10.1->Flask->pywhatkit) (2.0.1)\n",
      "Collecting pyrect\n",
      "  Downloading PyRect-0.2.0.tar.gz (17 kB)\n",
      "  Preparing metadata (setup.py): started\n",
      "  Preparing metadata (setup.py): finished with status 'done'\n",
      "Requirement already satisfied: soupsieve>1.2 in c:\\users\\devin\\anaconda3\\lib\\site-packages (from beautifulsoup4->wikipedia->pywhatkit) (2.3.1)\n",
      "Collecting pyperclip\n",
      "  Downloading pyperclip-1.8.2.tar.gz (20 kB)\n",
      "  Preparing metadata (setup.py): started\n",
      "  Preparing metadata (setup.py): finished with status 'done'\n",
      "Building wheels for collected packages: pyautogui, wikipedia, pygetwindow, pyscreeze, PyTweening, mouseinfo, pymsgbox, pyperclip, pyrect\n",
      "  Building wheel for pyautogui (setup.py): started\n",
      "  Building wheel for pyautogui (setup.py): finished with status 'done'\n",
      "  Created wheel for pyautogui: filename=PyAutoGUI-0.9.53-py3-none-any.whl size=36601 sha256=3822777bbf2630d053c0f30d5a431ccc004d6cf62b39e71c5dcf7e1c6062ce6f\n",
      "  Stored in directory: c:\\users\\devin\\appdata\\local\\pip\\cache\\wheels\\d8\\97\\e4\\d2edca92a87d3b5fbfb527264750a17b4ba297b9a7cab6e67f\n",
      "  Building wheel for wikipedia (setup.py): started\n",
      "  Building wheel for wikipedia (setup.py): finished with status 'done'\n",
      "  Created wheel for wikipedia: filename=wikipedia-1.4.0-py3-none-any.whl size=11680 sha256=aad8ba1112ca4c9eccc3d5226a50e8168f5e5ea3d89c8aeb8fe1c2ff8cf67b00\n",
      "  Stored in directory: c:\\users\\devin\\appdata\\local\\pip\\cache\\wheels\\c2\\46\\f4\\caa1bee71096d7b0cdca2f2a2af45cacf35c5760bee8f00948\n",
      "  Building wheel for pygetwindow (setup.py): started\n",
      "  Building wheel for pygetwindow (setup.py): finished with status 'done'\n",
      "  Created wheel for pygetwindow: filename=PyGetWindow-0.0.9-py3-none-any.whl size=11063 sha256=8c2d666ab580cfca7282f17d42aacc4b5926078e7054845c47ad454261aba85d\n",
      "  Stored in directory: c:\\users\\devin\\appdata\\local\\pip\\cache\\wheels\\44\\ab\\20\\423c3a444793767e4e41f8377bc902f77bee212e68dcce85a5\n",
      "  Building wheel for pyscreeze (pyproject.toml): started\n",
      "  Building wheel for pyscreeze (pyproject.toml): finished with status 'done'\n",
      "  Created wheel for pyscreeze: filename=PyScreeze-0.1.28-py3-none-any.whl size=13026 sha256=6797596b38c20a377000b5e8245449a89307f9c14e3d907a6d25339749ad6af3\n",
      "  Stored in directory: c:\\users\\devin\\appdata\\local\\pip\\cache\\wheels\\a2\\5b\\86\\99f1d8fac5d92de0ccb3f0d4ad15e3f4278baf75a9b0f20b93\n",
      "  Building wheel for PyTweening (setup.py): started\n",
      "  Building wheel for PyTweening (setup.py): finished with status 'done'\n",
      "  Created wheel for PyTweening: filename=pytweening-1.0.4-py3-none-any.whl size=5838 sha256=89d120c1b00f225709033008fe9b6e1933086504f11dd39ed9eb9d6df5a2d120\n",
      "  Stored in directory: c:\\users\\devin\\appdata\\local\\pip\\cache\\wheels\\a4\\5d\\d2\\ba4c8f82163233ffaadcf383c1e34d7d92635d357d13e7b78d\n",
      "  Building wheel for mouseinfo (setup.py): started\n",
      "  Building wheel for mouseinfo (setup.py): finished with status 'done'\n",
      "  Created wheel for mouseinfo: filename=MouseInfo-0.1.3-py3-none-any.whl size=10891 sha256=acf703d3f34b8d36eecccf31b63cb9ad49ce668e4dc2cce6dd85958746150bac\n",
      "  Stored in directory: c:\\users\\devin\\appdata\\local\\pip\\cache\\wheels\\61\\73\\b9\\6fb1131ab36e650206e3aa0ad7a68907b41b32ac2d4f75f543\n",
      "  Building wheel for pymsgbox (pyproject.toml): started\n",
      "  Building wheel for pymsgbox (pyproject.toml): finished with status 'done'\n",
      "  Created wheel for pymsgbox: filename=PyMsgBox-1.0.9-py3-none-any.whl size=7417 sha256=178c6f69a71e01d3005c594f8d78c90a36f320e5110482f8bddcfda5d1ad6b7d\n",
      "  Stored in directory: c:\\users\\devin\\appdata\\local\\pip\\cache\\wheels\\7f\\13\\8c\\584c519464297d9637f9cd29fd1dcdf55e2a2cab225c76a2db\n",
      "  Building wheel for pyperclip (setup.py): started\n",
      "  Building wheel for pyperclip (setup.py): finished with status 'done'\n",
      "  Created wheel for pyperclip: filename=pyperclip-1.8.2-py3-none-any.whl size=11123 sha256=21e7465b14a18809d51fa31b4278592e1685ae0c51994ccef5deba9f8663c193\n",
      "  Stored in directory: c:\\users\\devin\\appdata\\local\\pip\\cache\\wheels\\0c\\09\\9e\\49e21a6840ef7955b06d47394afef0058f0378c0914e48b8b8\n",
      "  Building wheel for pyrect (setup.py): started\n",
      "  Building wheel for pyrect (setup.py): finished with status 'done'\n",
      "  Created wheel for pyrect: filename=PyRect-0.2.0-py2.py3-none-any.whl size=11179 sha256=78ad5fba3538f8c78b914256c2a7f1c293b12b50b651d7dc45194e0dedc21a71\n",
      "  Stored in directory: c:\\users\\devin\\appdata\\local\\pip\\cache\\wheels\\25\\80\\fa\\27bb4a1c2e21f64ec71390489d52e57b7cc8afbe79bd595c5e\n",
      "Successfully built pyautogui wikipedia pygetwindow pyscreeze PyTweening mouseinfo pymsgbox pyperclip pyrect\n",
      "Installing collected packages: PyTweening, pyscreeze, pyrect, pyperclip, pymsgbox, pygetwindow, mouseinfo, wikipedia, pyautogui, pywhatkit\n",
      "Successfully installed PyTweening-1.0.4 mouseinfo-0.1.3 pyautogui-0.9.53 pygetwindow-0.0.9 pymsgbox-1.0.9 pyperclip-1.8.2 pyrect-0.2.0 pyscreeze-0.1.28 pywhatkit-5.4 wikipedia-1.4.0\n"
     ]
    }
   ],
   "source": [
    "pip install pywhatkit"
   ]
  },
  {
   "cell_type": "code",
   "execution_count": 31,
   "id": "0510c96a",
   "metadata": {},
   "outputs": [
    {
     "name": "stdout",
     "output_type": "stream",
     "text": [
      "Collecting yfinance\n",
      "  Downloading yfinance-0.2.17-py2.py3-none-any.whl (60 kB)\n",
      "     ---------------------------------------- 60.3/60.3 kB 1.1 MB/s eta 0:00:00\n",
      "Collecting frozendict>=2.3.4\n",
      "  Downloading frozendict-2.3.7-cp39-cp39-win_amd64.whl (35 kB)\n",
      "Collecting pytz>=2022.5\n",
      "  Downloading pytz-2023.3-py2.py3-none-any.whl (502 kB)\n",
      "     -------------------------------------- 502.3/502.3 kB 3.5 MB/s eta 0:00:00\n",
      "Collecting html5lib>=1.1\n",
      "  Downloading html5lib-1.1-py2.py3-none-any.whl (112 kB)\n",
      "     -------------------------------------- 112.2/112.2 kB 3.3 MB/s eta 0:00:00\n",
      "Requirement already satisfied: pandas>=1.3.0 in c:\\users\\devin\\anaconda3\\lib\\site-packages (from yfinance) (1.4.4)\n",
      "Requirement already satisfied: appdirs>=1.4.4 in c:\\users\\devin\\anaconda3\\lib\\site-packages (from yfinance) (1.4.4)\n",
      "Requirement already satisfied: beautifulsoup4>=4.11.1 in c:\\users\\devin\\anaconda3\\lib\\site-packages (from yfinance) (4.11.1)\n",
      "Requirement already satisfied: lxml>=4.9.1 in c:\\users\\devin\\anaconda3\\lib\\site-packages (from yfinance) (4.9.1)\n",
      "Requirement already satisfied: cryptography>=3.3.2 in c:\\users\\devin\\anaconda3\\lib\\site-packages (from yfinance) (37.0.1)\n",
      "Collecting multitasking>=0.0.7\n",
      "  Downloading multitasking-0.0.11-py3-none-any.whl (8.5 kB)\n",
      "Requirement already satisfied: requests>=2.26 in c:\\users\\devin\\anaconda3\\lib\\site-packages (from yfinance) (2.28.1)\n",
      "Requirement already satisfied: numpy>=1.16.5 in c:\\users\\devin\\anaconda3\\lib\\site-packages (from yfinance) (1.21.5)\n",
      "Requirement already satisfied: soupsieve>1.2 in c:\\users\\devin\\anaconda3\\lib\\site-packages (from beautifulsoup4>=4.11.1->yfinance) (2.3.1)\n",
      "Requirement already satisfied: cffi>=1.12 in c:\\users\\devin\\anaconda3\\lib\\site-packages (from cryptography>=3.3.2->yfinance) (1.15.1)\n",
      "Requirement already satisfied: six>=1.9 in c:\\users\\devin\\anaconda3\\lib\\site-packages (from html5lib>=1.1->yfinance) (1.16.0)\n",
      "Requirement already satisfied: webencodings in c:\\users\\devin\\anaconda3\\lib\\site-packages (from html5lib>=1.1->yfinance) (0.5.1)\n",
      "Requirement already satisfied: python-dateutil>=2.8.1 in c:\\users\\devin\\anaconda3\\lib\\site-packages (from pandas>=1.3.0->yfinance) (2.8.2)\n",
      "Requirement already satisfied: idna<4,>=2.5 in c:\\users\\devin\\anaconda3\\lib\\site-packages (from requests>=2.26->yfinance) (3.3)\n",
      "Requirement already satisfied: urllib3<1.27,>=1.21.1 in c:\\users\\devin\\anaconda3\\lib\\site-packages (from requests>=2.26->yfinance) (1.26.11)\n",
      "Requirement already satisfied: certifi>=2017.4.17 in c:\\users\\devin\\anaconda3\\lib\\site-packages (from requests>=2.26->yfinance) (2022.12.7)\n",
      "Requirement already satisfied: charset-normalizer<3,>=2 in c:\\users\\devin\\anaconda3\\lib\\site-packages (from requests>=2.26->yfinance) (2.0.4)\n",
      "Requirement already satisfied: pycparser in c:\\users\\devin\\anaconda3\\lib\\site-packages (from cffi>=1.12->cryptography>=3.3.2->yfinance) (2.21)\n",
      "Installing collected packages: pytz, multitasking, html5lib, frozendict, yfinance\n",
      "  Attempting uninstall: pytz\n",
      "    Found existing installation: pytz 2022.1\n",
      "    Uninstalling pytz-2022.1:\n",
      "      Successfully uninstalled pytz-2022.1\n",
      "Successfully installed frozendict-2.3.7 html5lib-1.1 multitasking-0.0.11 pytz-2023.3 yfinance-0.2.17\n",
      "Note: you may need to restart the kernel to use updated packages.\n"
     ]
    },
    {
     "name": "stderr",
     "output_type": "stream",
     "text": [
      "ERROR: pip's dependency resolver does not currently take into account all the packages that are installed. This behaviour is the source of the following dependency conflicts.\n",
      "conda-repo-cli 1.0.20 requires clyent==1.2.1, but you have clyent 1.2.2 which is incompatible.\n",
      "conda-repo-cli 1.0.20 requires nbformat==5.4.0, but you have nbformat 5.5.0 which is incompatible.\n"
     ]
    }
   ],
   "source": [
    "pip install yfinance"
   ]
  },
  {
   "cell_type": "code",
   "execution_count": 33,
   "id": "ec7e02c4",
   "metadata": {},
   "outputs": [
    {
     "name": "stdout",
     "output_type": "stream",
     "text": [
      "Collecting pyjokesNote: you may need to restart the kernel to use updated packages.\n",
      "\n",
      "  Downloading pyjokes-0.6.0-py2.py3-none-any.whl (26 kB)\n",
      "Installing collected packages: pyjokes\n",
      "Successfully installed pyjokes-0.6.0\n"
     ]
    }
   ],
   "source": [
    "pip install pyjokes"
   ]
  },
  {
   "cell_type": "code",
   "execution_count": 35,
   "id": "c3ca85fc",
   "metadata": {},
   "outputs": [
    {
     "name": "stdout",
     "output_type": "stream",
     "text": [
      "Collecting twilio\n",
      "  Downloading twilio-8.0.0-py2.py3-none-any.whl (1.7 MB)\n",
      "     ---------------------------------------- 1.7/1.7 MB 1.9 MB/s eta 0:00:00\n",
      "Collecting aiohttp-retry>=2.8.3\n",
      "  Downloading aiohttp_retry-2.8.3-py3-none-any.whl (9.8 kB)\n",
      "Requirement already satisfied: PyJWT<3.0.0,>=2.0.0 in c:\\users\\devin\\anaconda3\\lib\\site-packages (from twilio) (2.4.0)\n",
      "Collecting aiohttp>=3.8.4\n",
      "  Downloading aiohttp-3.8.4-cp39-cp39-win_amd64.whl (323 kB)\n",
      "     -------------------------------------- 323.6/323.6 kB 2.2 MB/s eta 0:00:00\n",
      "Requirement already satisfied: pytz in c:\\users\\devin\\anaconda3\\lib\\site-packages (from twilio) (2023.3)\n",
      "Requirement already satisfied: requests>=2.0.0 in c:\\users\\devin\\anaconda3\\lib\\site-packages (from twilio) (2.28.1)\n",
      "Collecting asyncio>=3.4.3\n",
      "  Downloading asyncio-3.4.3-py3-none-any.whl (101 kB)\n",
      "     -------------------------------------- 101.8/101.8 kB 3.0 MB/s eta 0:00:00\n",
      "Collecting async-timeout<5.0,>=4.0.0a3\n",
      "  Downloading async_timeout-4.0.2-py3-none-any.whl (5.8 kB)\n",
      "Collecting yarl<2.0,>=1.0\n",
      "  Downloading yarl-1.8.2-cp39-cp39-win_amd64.whl (56 kB)\n",
      "     ---------------------------------------- 56.8/56.8 kB 3.1 MB/s eta 0:00:00\n",
      "Requirement already satisfied: attrs>=17.3.0 in c:\\users\\devin\\anaconda3\\lib\\site-packages (from aiohttp>=3.8.4->twilio) (21.4.0)\n",
      "Requirement already satisfied: charset-normalizer<4.0,>=2.0 in c:\\users\\devin\\anaconda3\\lib\\site-packages (from aiohttp>=3.8.4->twilio) (2.0.4)\n",
      "Collecting multidict<7.0,>=4.5\n",
      "  Downloading multidict-6.0.4-cp39-cp39-win_amd64.whl (28 kB)\n",
      "Collecting frozenlist>=1.1.1\n",
      "  Downloading frozenlist-1.3.3-cp39-cp39-win_amd64.whl (34 kB)\n",
      "Collecting aiosignal>=1.1.2\n",
      "  Downloading aiosignal-1.3.1-py3-none-any.whl (7.6 kB)\n",
      "Requirement already satisfied: certifi>=2017.4.17 in c:\\users\\devin\\anaconda3\\lib\\site-packages (from requests>=2.0.0->twilio) (2022.12.7)\n",
      "Requirement already satisfied: idna<4,>=2.5 in c:\\users\\devin\\anaconda3\\lib\\site-packages (from requests>=2.0.0->twilio) (3.3)\n",
      "Requirement already satisfied: urllib3<1.27,>=1.21.1 in c:\\users\\devin\\anaconda3\\lib\\site-packages (from requests>=2.0.0->twilio) (1.26.11)\n",
      "Installing collected packages: asyncio, multidict, frozenlist, async-timeout, yarl, aiosignal, aiohttp, aiohttp-retry, twilio\n",
      "Successfully installed aiohttp-3.8.4 aiohttp-retry-2.8.3 aiosignal-1.3.1 async-timeout-4.0.2 asyncio-3.4.3 frozenlist-1.3.3 multidict-6.0.4 twilio-8.0.0 yarl-1.8.2\n",
      "Note: you may need to restart the kernel to use updated packages.\n"
     ]
    }
   ],
   "source": [
    "pip install twilio"
   ]
  },
  {
   "cell_type": "code",
   "execution_count": 37,
   "id": "232eba31",
   "metadata": {},
   "outputs": [
    {
     "name": "stdout",
     "output_type": "stream",
     "text": [
      "Collecting ecaptureNote: you may need to restart the kernel to use updated packages.\n",
      "\n",
      "  Downloading ecapture-2.0.2-py3-none-any.whl (17 kB)\n",
      "Collecting opencv-python\n",
      "  Downloading opencv_python-4.7.0.72-cp37-abi3-win_amd64.whl (38.2 MB)\n",
      "     ---------------------------------------- 38.2/38.2 MB 3.2 MB/s eta 0:00:00\n",
      "Requirement already satisfied: numpy>=1.19.3 in c:\\users\\devin\\anaconda3\\lib\\site-packages (from opencv-python->ecapture) (1.21.5)\n",
      "Installing collected packages: opencv-python, ecapture\n",
      "Successfully installed ecapture-2.0.2 opencv-python-4.7.0.72\n"
     ]
    }
   ],
   "source": [
    "pip install ecapture"
   ]
  },
  {
   "cell_type": "code",
   "execution_count": 38,
   "id": "e897521c",
   "metadata": {},
   "outputs": [
    {
     "name": "stdout",
     "output_type": "stream",
     "text": [
      "Requirement already satisfied: wikipedia in c:\\users\\devin\\anaconda3\\lib\\site-packages (1.4.0)\n",
      "Requirement already satisfied: requests<3.0.0,>=2.0.0 in c:\\users\\devin\\anaconda3\\lib\\site-packages (from wikipedia) (2.28.1)\n",
      "Requirement already satisfied: beautifulsoup4 in c:\\users\\devin\\anaconda3\\lib\\site-packages (from wikipedia) (4.11.1)\n",
      "Requirement already satisfied: certifi>=2017.4.17 in c:\\users\\devin\\anaconda3\\lib\\site-packages (from requests<3.0.0,>=2.0.0->wikipedia) (2022.12.7)\n",
      "Requirement already satisfied: idna<4,>=2.5 in c:\\users\\devin\\anaconda3\\lib\\site-packages (from requests<3.0.0,>=2.0.0->wikipedia) (3.3)\n",
      "Requirement already satisfied: charset-normalizer<3,>=2 in c:\\users\\devin\\anaconda3\\lib\\site-packages (from requests<3.0.0,>=2.0.0->wikipedia) (2.0.4)\n",
      "Requirement already satisfied: urllib3<1.27,>=1.21.1 in c:\\users\\devin\\anaconda3\\lib\\site-packages (from requests<3.0.0,>=2.0.0->wikipedia) (1.26.11)\n",
      "Requirement already satisfied: soupsieve>1.2 in c:\\users\\devin\\anaconda3\\lib\\site-packages (from beautifulsoup4->wikipedia) (2.3.1)\n",
      "Note: you may need to restart the kernel to use updated packages.\n"
     ]
    }
   ],
   "source": [
    "pip install wikipedia"
   ]
  },
  {
   "cell_type": "code",
   "execution_count": 47,
   "id": "4476e258",
   "metadata": {},
   "outputs": [
    {
     "name": "stdout",
     "output_type": "stream",
     "text": [
      "Collecting pyaudio\n",
      "  Downloading PyAudio-0.2.13-cp39-cp39-win_amd64.whl (164 kB)\n",
      "     -------------------------------------- 164.1/164.1 kB 1.1 MB/s eta 0:00:00\n",
      "Installing collected packages: pyaudio\n",
      "Successfully installed pyaudio-0.2.13\n",
      "Note: you may need to restart the kernel to use updated packages.\n"
     ]
    }
   ],
   "source": [
    "pip install pyaudio"
   ]
  },
  {
   "cell_type": "code",
   "execution_count": 21,
   "id": "6df52cd4",
   "metadata": {},
   "outputs": [
    {
     "name": "stdout",
     "output_type": "stream",
     "text": [
      "Collecting wolframalpha\n",
      "  Downloading wolframalpha-5.0.0-py3-none-any.whl (7.5 kB)\n",
      "Collecting jaraco.context\n",
      "  Downloading jaraco.context-4.3.0-py3-none-any.whl (5.3 kB)\n",
      "Collecting xmltodict\n",
      "  Downloading xmltodict-0.13.0-py2.py3-none-any.whl (10.0 kB)\n",
      "Collecting more-itertools\n",
      "  Downloading more_itertools-9.1.0-py3-none-any.whl (54 kB)\n",
      "     -------------------------------------- 54.2/54.2 kB 697.9 kB/s eta 0:00:00\n",
      "Installing collected packages: xmltodict, more-itertools, jaraco.context, wolframalpha\n",
      "Successfully installed jaraco.context-4.3.0 more-itertools-9.1.0 wolframalpha-5.0.0 xmltodict-0.13.0\n",
      "Note: you may need to restart the kernel to use updated packages.\n"
     ]
    }
   ],
   "source": [
    "pip install wolframalpha"
   ]
  },
  {
   "cell_type": "code",
   "execution_count": 2,
   "id": "9cc1d341",
   "metadata": {},
   "outputs": [
    {
     "name": "stdout",
     "output_type": "stream",
     "text": [
      "Requirement already satisfied: selenium in c:\\users\\devin\\anaconda3\\lib\\site-packages (4.8.3)\n",
      "Requirement already satisfied: trio~=0.17 in c:\\users\\devin\\anaconda3\\lib\\site-packages (from selenium) (0.22.0)\n",
      "Requirement already satisfied: trio-websocket~=0.9 in c:\\users\\devin\\anaconda3\\lib\\site-packages (from selenium) (0.10.2)\n",
      "Requirement already satisfied: certifi>=2021.10.8 in c:\\users\\devin\\anaconda3\\lib\\site-packages (from selenium) (2022.12.7)\n",
      "Requirement already satisfied: urllib3[socks]~=1.26 in c:\\users\\devin\\anaconda3\\lib\\site-packages (from selenium) (1.26.11)\n",
      "Requirement already satisfied: outcome in c:\\users\\devin\\anaconda3\\lib\\site-packages (from trio~=0.17->selenium) (1.2.0)\n",
      "Requirement already satisfied: cffi>=1.14 in c:\\users\\devin\\anaconda3\\lib\\site-packages (from trio~=0.17->selenium) (1.15.1)\n",
      "Requirement already satisfied: idna in c:\\users\\devin\\anaconda3\\lib\\site-packages (from trio~=0.17->selenium) (3.3)\n",
      "Requirement already satisfied: async-generator>=1.9 in c:\\users\\devin\\anaconda3\\lib\\site-packages (from trio~=0.17->selenium) (1.10)\n",
      "Requirement already satisfied: sniffio in c:\\users\\devin\\anaconda3\\lib\\site-packages (from trio~=0.17->selenium) (1.2.0)\n",
      "Requirement already satisfied: exceptiongroup>=1.0.0rc9 in c:\\users\\devin\\anaconda3\\lib\\site-packages (from trio~=0.17->selenium) (1.1.1)\n",
      "Requirement already satisfied: sortedcontainers in c:\\users\\devin\\anaconda3\\lib\\site-packages (from trio~=0.17->selenium) (2.4.0)\n",
      "Requirement already satisfied: attrs>=19.2.0 in c:\\users\\devin\\anaconda3\\lib\\site-packages (from trio~=0.17->selenium) (21.4.0)\n",
      "Requirement already satisfied: wsproto>=0.14 in c:\\users\\devin\\anaconda3\\lib\\site-packages (from trio-websocket~=0.9->selenium) (1.2.0)\n",
      "Requirement already satisfied: PySocks!=1.5.7,<2.0,>=1.5.6 in c:\\users\\devin\\anaconda3\\lib\\site-packages (from urllib3[socks]~=1.26->selenium) (1.7.1)\n",
      "Requirement already satisfied: pycparser in c:\\users\\devin\\anaconda3\\lib\\site-packages (from cffi>=1.14->trio~=0.17->selenium) (2.21)\n",
      "Requirement already satisfied: h11<1,>=0.9.0 in c:\\users\\devin\\anaconda3\\lib\\site-packages (from wsproto>=0.14->trio-websocket~=0.9->selenium) (0.14.0)\n",
      "Note: you may need to restart the kernel to use updated packages.\n"
     ]
    }
   ],
   "source": [
    "pip install -U selenium"
   ]
  },
  {
   "cell_type": "code",
   "execution_count": 256,
   "id": "f9173dec",
   "metadata": {},
   "outputs": [],
   "source": [
    "import pyttsx3\n",
    "import speech_recognition as sr\n",
    "import webbrowser\n",
    "import datetime\n",
    "import pywhatkit\n",
    "import os\n",
    "import yfinance as yf\n",
    "import pyjokes\n",
    "from twilio.rest import Client\n",
    "from ecapture import ecapture as ec\n",
    "import wikipedia\n",
    "import tkinter\n",
    "import json\n",
    "import urllib.request\n",
    "from ecapture import ecapture as ec\n",
    "import wolframalpha # to calculate strings into formula\n",
    "import selenium.webdriver as webdriver\n",
    "from selenium.webdriver.edge.service import Service\n",
    "from selenium.webdriver.edge.options import Options\n",
    "from selenium.webdriver.common.by import By\n",
    "from selenium.webdriver.support.ui import WebDriverWait\n",
    "from selenium.webdriver.support import expected_conditions as EC\n",
    "from selenium.common.exceptions import NoSuchElementException, NoSuchWindowException\n",
    "import signal"
   ]
  },
  {
   "cell_type": "code",
   "execution_count": 257,
   "id": "da5acd0c",
   "metadata": {},
   "outputs": [],
   "source": [
    "#Listen to our microphone and return the audio as text using google\n",
    "\n",
    "def transform():\n",
    "    r = sr.Recognizer()\n",
    "    with sr.Microphone() as source:\n",
    "        r.pause_threshold = 1.2\n",
    "        said = r.listen(source)\n",
    "        try:\n",
    "            print('I am listening...')\n",
    "            q = r.recognize_google(said, language=\"en\")\n",
    "            return q\n",
    "        except sr.UnknownValueError:\n",
    "            print('Sorry I did not understand')\n",
    "            return \"I am waiting...\"\n",
    "        except sr.RequestError:\n",
    "            print('Sorry the service is down')\n",
    "            return 'I am waiting...'\n",
    "        except:\n",
    "            return 'I am waiting..'\n",
    "    return q"
   ]
  },
  {
   "cell_type": "code",
   "execution_count": 258,
   "id": "57cd6137",
   "metadata": {},
   "outputs": [],
   "source": [
    "def speaking(message):\n",
    "    engine =pyttsx3.init()\n",
    "    engine.say(message)\n",
    "    engine.runAndWait()"
   ]
  },
  {
   "cell_type": "code",
   "execution_count": 260,
   "id": "8aded10c",
   "metadata": {},
   "outputs": [
    {
     "name": "stdout",
     "output_type": "stream",
     "text": [
      "<Voice id=HKEY_LOCAL_MACHINE\\SOFTWARE\\Microsoft\\Speech\\Voices\\Tokens\\TTS_MS_EN-US_DAVID_11.0\n",
      "          name=Microsoft David Desktop - English (United States)\n",
      "          languages=[]\n",
      "          gender=None\n",
      "          age=None>\n",
      "<Voice id=HKEY_LOCAL_MACHINE\\SOFTWARE\\Microsoft\\Speech\\Voices\\Tokens\\TTS_MS_EN-GB_HAZEL_11.0\n",
      "          name=Microsoft Hazel Desktop - English (Great Britain)\n",
      "          languages=[]\n",
      "          gender=None\n",
      "          age=None>\n",
      "<Voice id=HKEY_LOCAL_MACHINE\\SOFTWARE\\Microsoft\\Speech\\Voices\\Tokens\\TTS_MS_EN-US_ZIRA_11.0\n",
      "          name=Microsoft Zira Desktop - English (United States)\n",
      "          languages=[]\n",
      "          gender=None\n",
      "          age=None>\n"
     ]
    }
   ],
   "source": [
    "engine =pyttsx3.init()\n",
    "for voice in engine.getProperty('voices'):\n",
    "    print(voice)"
   ]
  },
  {
   "cell_type": "code",
   "execution_count": 261,
   "id": "31f9f454",
   "metadata": {},
   "outputs": [],
   "source": [
    "#Change voice of bot by using id\n",
    "id = 'HKEY_LOCAL_MACHINE\\SOFTWARE\\Microsoft\\Speech\\Voices\\Tokens\\TTS_MS_EN-US_ZIRA_11.0'\n",
    "engine.setProperty('voice',id)\n",
    "engine.say('hello World')\n",
    "engine.runAndWait()"
   ]
  },
  {
   "cell_type": "code",
   "execution_count": 101,
   "id": "6646f889",
   "metadata": {},
   "outputs": [],
   "source": [
    "#return the weekday name\n",
    "def query_day():\n",
    "    day = datetime.date.today()\n",
    "    #print(day)\n",
    "    weekday = day.weekday()\n",
    "    #print(weekday)\n",
    "    mapping = {\n",
    "        0:'Monday',1:'Tuesday',2:'Wednesday',3:'Thurday',4:'Friday',5:'Saturday',6:'Sunday'\n",
    "    }\n",
    "    \n",
    "    try:\n",
    "        speaking(f'Today is {mapping[weekday]}')\n",
    "    except:\n",
    "        pass"
   ]
  },
  {
   "cell_type": "code",
   "execution_count": 262,
   "id": "493eef8e",
   "metadata": {},
   "outputs": [],
   "source": [
    "#return the time\n",
    "def query_time():\n",
    "    time = datetime.datetime.now().strftime('%I:%M:%S')\n",
    "    #print(time)\n",
    "    speaking(f\" The time is {time[1]} o'clock and {time[3:5]} minutes \")\n",
    "    "
   ]
  },
  {
   "cell_type": "code",
   "execution_count": 263,
   "id": "f201654d",
   "metadata": {},
   "outputs": [],
   "source": [
    "#Intro greeting at statrtup\n",
    "def whatsup():\n",
    "    speaking('''Hi, I am Julia 1 point o.\n",
    "    How may I help you''')"
   ]
  },
  {
   "cell_type": "code",
   "execution_count": 289,
   "id": "c7ba91a3",
   "metadata": {},
   "outputs": [],
   "source": [
    "def set_reminder():\n",
    "    speaking(\"What should I remind you about?\")\n",
    "    reminder = transform()\n",
    "    speaking(\"When do you want to be reminded? Please say the time in hours and minutes.\")\n",
    "    reminder_time = transform()\n",
    "    try:\n",
    "        hour, minute = map(int, reminder_time.split())\n",
    "        now = datetime.datetime.now()\n",
    "        reminder_datetime = now.replace(hour=hour, minute=minute)\n",
    "        if now > reminder_datetime:\n",
    "            reminder_datetime += datetime.timedelta(days=1)\n",
    "        speaking(f\"Alright, I will remind you about '{reminder}' at {hour:02d}:{minute:02d}.\")\n",
    "        while True:\n",
    "            if datetime.datetime.now() >= reminder_datetime:\n",
    "                speak(engine, f\"Reminder: {reminder}\")\n",
    "                break\n",
    "    except ValueError:\n",
    "        speaking(\"Sorry, I couldn't understand the time you provided. Please try again.\")\n"
   ]
  },
  {
   "cell_type": "code",
   "execution_count": 297,
   "id": "014c1c71",
   "metadata": {},
   "outputs": [],
   "source": [
    "def create_todo_list():\n",
    "    todo_list = []\n",
    "    speaking(\"Let's create a to-do list. Please say the tasks one by one. Say 'done' when you're finished.\")\n",
    "    while True:\n",
    "        task = transform().lower()\n",
    "        if task == \"done\":\n",
    "            break\n",
    "        todo_list.append(task)\n",
    "        speaking(f\"Added: {task}\")\n",
    "    speaking(\"Here's your to-do list:\")\n",
    "    for task in todo_list:\n",
    "        speaking(task)"
   ]
  },
  {
   "cell_type": "code",
   "execution_count": 302,
   "id": "71029dc4",
   "metadata": {},
   "outputs": [],
   "source": [
    "def search_web():\n",
    "    user_agent = ' Mozilla/5.0 (Windows NT 10.0; Win64; x64) AppleWebKit/537.36 (KHTML, like Gecko) Chrome/112.0.0.0 Safari/537.36 Edg/112.0.1722.48'\n",
    "    edge_driver_path = \"C:\\\\Users\\\\devin\\\\Downloads\\\\edgedriver_win64\\\\msedgedriver.exe\"\n",
    "    edge_service = Service(edge_driver_path)\n",
    "    edge_options = Options()\n",
    "    edge_options.use_chromium = True\n",
    "    edge_options.add_experimental_option(\"detach\", True)\n",
    "    edge_options.add_argument(f'user-agent={user_agent}')\n",
    "    whatsup()\n",
    "    start = True\n",
    "    driver = None  # Initialize the webdriver outside of the loop\n",
    "    while(start):\n",
    "        q = transform().lower()\n",
    "        if q:\n",
    "            if not driver:\n",
    "                driver = webdriver.Edge(service=edge_service, options=edge_options)\n",
    "                driver.implicitly_wait(1)\n",
    "                driver.maximize_window()\n",
    "            try:\n",
    "                if 'youtube' in q:\n",
    "                    try:\n",
    "                        speaking(\"Opening in youtube\")\n",
    "                        indx =q.split().index('youtube')\n",
    "                        driver.get('https://www.youtube.com/')\n",
    "                        search_bar = driver.find_element(By.NAME,'search_query')\n",
    "                        search_bar.send_keys(q)\n",
    "                        search_bar.submit()\n",
    "                        # submit search form\n",
    "                        search_form = driver.find_element(By.ID, 'search-form')\n",
    "                        search_form.submit()\n",
    "                        video_link = WebDriverWait(driver, 10).until(EC.visibility_of_element_located((By.XPATH, '//*[@id=\"video-title\"]')))\n",
    "                        video_link.click()\n",
    "                        continue\n",
    "                    except (NoSuchElementException, NoSuchWindowException) as e:\n",
    "                        driver.quit()\n",
    "\n",
    "                elif 'wikipedia' in q:\n",
    "                    speaking('Checking wikipedia')\n",
    "                    q = q.replace(\"wikipedia\",\"\")\n",
    "                    result = wikipedia.summary(q,sentences=2)\n",
    "                    speaking('Found on wikipedia')\n",
    "                    try:\n",
    "                        # Search for the page with title \"India\"\n",
    "                        page = wikipedia.page(q)\n",
    "                        driver.get(page.url)\n",
    "                        speaking(result)\n",
    "\n",
    "                    except wikipedia.exceptions.PageError:\n",
    "                        print(\"Page not found.\")\n",
    "                    except wikipedia.exceptions.WikipediaException as e:\n",
    "                        print(\"An error occurred: \", e)\n",
    "                    \n",
    "                    continue\n",
    "\n",
    "                elif 'google' in q:\n",
    "                    try:\n",
    "                        speaking(\"Opening in Google\")\n",
    "                        indx = q.split().index('google')\n",
    "                        query = ' '.join(q.split()[indx+1:])\n",
    "                        driver.get('https://www.google.com/')\n",
    "                        search_bar = driver.find_element(By.NAME,'q')\n",
    "                        search_bar.send_keys(query)\n",
    "                        search_bar.submit()\n",
    "                        # submit search form\n",
    "                        #search_form = driver.find_element(By.ID, 'search-form')\n",
    "                        #search_form.submit()\n",
    "                        continue\n",
    "                    except (NoSuchElementException, NoSuchWindowException) as e:\n",
    "                        continue\n",
    "                    \n",
    "                elif 'shutdown ' in q or 'exit' in q:\n",
    "                    speaking('Ok I am shutting down')\n",
    "                    break\n",
    "                elif 'search web' in q:\n",
    "                    pywhatkit.search(q)\n",
    "                    speaking('that is what I found')\n",
    "                    continue\n",
    "                \n",
    "                elif 'day' in q:\n",
    "                    query_day()\n",
    "                    continue\n",
    "\n",
    "                elif 'time' in q:\n",
    "                    query_time()\n",
    "                    continue\n",
    "                elif 'play music' in q:\n",
    "                    speaking(f'playing {q}')\n",
    "                    pywhatkit.playonyt(q)\n",
    "                    continue\n",
    "                elif 'your name' in q:\n",
    "                    speaking('I am Julia. Your personal assistant')\n",
    "                    continue\n",
    "                elif \"remainder\" in q:\n",
    "                    set_reminder()\n",
    "                    continue\n",
    "                    \n",
    "                elif \"to-do\" in q or \"todo\" in q:\n",
    "                    create_todo_list()\n",
    "                    continue\n",
    "                    \n",
    "                elif 'start webbrowser' in q:\n",
    "                    speaking('opening browser')\n",
    "                    webbrowser.open('https://www.google.com')\n",
    "                    continue\n",
    "            \n",
    "                elif 'joke' in q:\n",
    "                    speaking(pyjokes.get_joke())\n",
    "                    continue\n",
    "\n",
    "                elif 'stock price' in q:\n",
    "                    search = q.split(\"of\")[-1].strip()\n",
    "                    lookup = {'apple':'AAPL', 'amazon':'AMZN',\n",
    "                             'google':'GOOGL'}\n",
    "                    try:\n",
    "                        stock = lookup[search]\n",
    "                        stock = yf.Ticker(stock)\n",
    "                        currentprice = stock.info('regularMarketPrice')\n",
    "                        speaking(f'found it,the price for {search} is {currentprice}')\n",
    "                    except:\n",
    "                        speaking(f'sorry I have no data for {search}')\n",
    "                        continue\n",
    "\n",
    "                elif 'news' in q:\n",
    "                    try:\n",
    "                        jsonObj =urllib.request.urlopen('https://newsapi.org/v2/top-headlines?country=in&apiKey=e2681c3ebb754ff98e662c736a2f65c7')\n",
    "                        data = json.load(jsonObj)\n",
    "                        i = 1\n",
    "\n",
    "                        speaking('here are some top news from the times of india')\n",
    "                        print('''=============== TIMES OF INDIA ============'''+ '\\n')\n",
    "\n",
    "                        for item in data['articles']:\n",
    "\n",
    "                            print(str(i) + '. ' + item['title'] + '\\n')\n",
    "                            print(item['description'] + '\\n')\n",
    "                            speaking(str(i) + '. ' + item['title'] + '\\n')\n",
    "                            i += 1\n",
    "                    except Exception as e:\n",
    "                        print(str(e))\n",
    "                        continue\n",
    "\n",
    "                elif \"text file\" in q:\n",
    "                    speaking(\"Showing Notes\")\n",
    "                    file = open(\"Voice_Assistant_Bot.ipynb\", \"r\")\n",
    "                    print(file.read())\n",
    "                    speaking(file.read(10))\n",
    "\n",
    "                elif \"where is\" in q:\n",
    "                    query = q.replace(\"where is\", \"\")\n",
    "                    location = query\n",
    "                    url = f\"https://www.google.com/maps/search/{location}\"\n",
    "                    speaking(\"User asked to Locate\")\n",
    "                    speaking(location)\n",
    "                    webbrowser.open(url)\n",
    "                    continue\n",
    "\n",
    "                    \n",
    "                else:\n",
    "                    speaking('I am waiting for your command')\n",
    "                    continue\n",
    "\n",
    "            except (NoSuchElementException, NoSuchWindowException) as e:\n",
    "                driver.quit()\n"
   ]
  },
  {
   "cell_type": "code",
   "execution_count": null,
   "id": "ef72dbf2",
   "metadata": {},
   "outputs": [],
   "source": [
    "search_web()"
   ]
  },
  {
   "cell_type": "code",
   "execution_count": null,
   "id": "3d688b68",
   "metadata": {},
   "outputs": [],
   "source": []
  }
 ],
 "metadata": {
  "kernelspec": {
   "display_name": "Python 3 (ipykernel)",
   "language": "python",
   "name": "python3"
  },
  "language_info": {
   "codemirror_mode": {
    "name": "ipython",
    "version": 3
   },
   "file_extension": ".py",
   "mimetype": "text/x-python",
   "name": "python",
   "nbconvert_exporter": "python",
   "pygments_lexer": "ipython3",
   "version": "3.9.13"
  }
 },
 "nbformat": 4,
 "nbformat_minor": 5
}
